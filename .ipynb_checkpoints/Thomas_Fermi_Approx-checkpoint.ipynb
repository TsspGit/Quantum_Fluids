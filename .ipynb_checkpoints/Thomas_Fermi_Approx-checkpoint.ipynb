{
 "cells": [
  {
   "cell_type": "code",
   "execution_count": 1,
   "metadata": {},
   "outputs": [],
   "source": [
    "__author__ = 'Tomás Sánchez-Pastor'\n",
    "__date__   = '21 de Julio de 2021'\n",
    "import sympy as sp\n",
    "import numpy as np\n",
    "from sympy import Eq"
   ]
  },
  {
   "cell_type": "code",
   "execution_count": 40,
   "metadata": {},
   "outputs": [],
   "source": [
    "r, m, hbar, ao, wr, N, mu, g = sp.symbols('r m \\\\hbar a_0 \\\\omega_r N \\\\mu g', real=True, positive=True)\n",
    "psi = sp.Function('\\\\psi', real=False)(r)  # wavefunction\n",
    "n = sp.Function('n', real=True)(r)  # wavefunction"
   ]
  },
  {
   "cell_type": "markdown",
   "metadata": {},
   "source": [
    "Thomas-Fermi approx - extreme repulsion leads to a flattened profile:\n",
    "$$\\nabla^2\\psi(x,t) \\to 0$$"
   ]
  },
  {
   "cell_type": "code",
   "execution_count": 41,
   "metadata": {},
   "outputs": [
    {
     "data": {
      "text/latex": [
       "$\\displaystyle \\mu \\psi{\\left(r \\right)} = 0.5 \\omega_r^{2} m r^{2} \\psi{\\left(r \\right)} + g \\psi{\\left(r \\right)} \\left|{\\psi{\\left(r \\right)}}\\right|^{2}$"
      ],
      "text/plain": [
       "Eq(\\mu*\\psi(r), 0.5*\\omega_r**2*m*r**2*\\psi(r) + g*\\psi(r)*Abs(\\psi(r))**2)"
      ]
     },
     "execution_count": 41,
     "metadata": {},
     "output_type": "execute_result"
    }
   ],
   "source": [
    "GPE_eq = Eq(mu*psi, g*abs(psi)**2*psi + 1/2*m*wr**2*r**2*psi)\n",
    "GPE_eq"
   ]
  },
  {
   "cell_type": "code",
   "execution_count": 42,
   "metadata": {},
   "outputs": [
    {
     "data": {
      "text/latex": [
       "$\\displaystyle \\mu \\psi{\\left(r \\right)} = 0.5 \\omega_r^{2} m r^{2} \\psi{\\left(r \\right)} + g \\psi{\\left(r \\right)} n{\\left(r \\right)}$"
      ],
      "text/plain": [
       "Eq(\\mu*\\psi(r), 0.5*\\omega_r**2*m*r**2*\\psi(r) + g*\\psi(r)*n(r))"
      ]
     },
     "execution_count": 42,
     "metadata": {},
     "output_type": "execute_result"
    }
   ],
   "source": [
    "GPE_eq_2 = Eq(GPE_eq.args[0], GPE_eq.args[1].subs({abs(psi)**2: n}))\n",
    "GPE_eq_2"
   ]
  },
  {
   "cell_type": "code",
   "execution_count": 43,
   "metadata": {},
   "outputs": [
    {
     "data": {
      "text/latex": [
       "$\\displaystyle \\mu = 0.5 \\omega_r^{2} m r^{2} + g n{\\left(r \\right)}$"
      ],
      "text/plain": [
       "Eq(\\mu, 0.5*\\omega_r**2*m*r**2 + g*n(r))"
      ]
     },
     "execution_count": 43,
     "metadata": {},
     "output_type": "execute_result"
    }
   ],
   "source": [
    "GPE_eq_3 = GPE_eq_2.subs({psi: 1})\n",
    "GPE_eq_3"
   ]
  },
  {
   "cell_type": "code",
   "execution_count": 44,
   "metadata": {},
   "outputs": [
    {
     "data": {
      "text/latex": [
       "$\\displaystyle n{\\left(r \\right)} = \\frac{\\mu - 0.5 \\omega_r^{2} m r^{2}}{g}$"
      ],
      "text/plain": [
       "Eq(n(r), (\\mu - 0.5*\\omega_r**2*m*r**2)/g)"
      ]
     },
     "execution_count": 44,
     "metadata": {},
     "output_type": "execute_result"
    }
   ],
   "source": [
    "Solution = Eq(n, sp.solve(GPE_eq_3, n)[0])\n",
    "Solution"
   ]
  },
  {
   "cell_type": "code",
   "execution_count": 45,
   "metadata": {},
   "outputs": [
    {
     "data": {
      "text/latex": [
       "$\\displaystyle n{\\left(r \\right)} = \\frac{\\mu \\left(1 - \\frac{\\omega_r^{2} m r^{2}}{2 \\mu}\\right)}{g}$"
      ],
      "text/plain": [
       "Eq(n(r), \\mu*(1 - \\omega_r**2*m*r**2/(2*\\mu))/g)"
      ]
     },
     "execution_count": 45,
     "metadata": {},
     "output_type": "execute_result"
    }
   ],
   "source": [
    "Solution = Eq(n, mu/g*(1 - r**2*wr**2*m/(2*mu)))\n",
    "Solution"
   ]
  },
  {
   "cell_type": "code",
   "execution_count": 46,
   "metadata": {},
   "outputs": [
    {
     "data": {
      "text/latex": [
       "$\\displaystyle R_{t} = \\frac{\\sqrt{2} \\sqrt{\\mu}}{\\omega_r \\sqrt{m}}$"
      ],
      "text/plain": [
       "Eq(R_t, sqrt(2)*sqrt(\\mu)/(\\omega_r*sqrt(m)))"
      ]
     },
     "execution_count": 46,
     "metadata": {},
     "output_type": "execute_result"
    }
   ],
   "source": [
    "# Thomas-Fermi Radius:\n",
    "Rt = sp.symbols('R_t')\n",
    "Eq(Rt, 1/wr*sp.sqrt(2*mu/m))"
   ]
  },
  {
   "cell_type": "code",
   "execution_count": 47,
   "metadata": {},
   "outputs": [
    {
     "data": {
      "text/latex": [
       "$\\displaystyle n{\\left(r \\right)} = \\frac{\\mu \\left(1 - \\frac{r^{2}}{R_{t}^{2}}\\right)}{g}$"
      ],
      "text/plain": [
       "Eq(n(r), \\mu*(1 - r**2/R_t**2)/g)"
      ]
     },
     "execution_count": 47,
     "metadata": {},
     "output_type": "execute_result"
    }
   ],
   "source": [
    "Solution_2 = Solution.subs({wr**2*m/(2*mu): 1/Rt**2})\n",
    "Solution_2"
   ]
  },
  {
   "cell_type": "code",
   "execution_count": 48,
   "metadata": {},
   "outputs": [
    {
     "data": {
      "text/plain": [
       "'n{\\\\left(r \\\\right)} = \\\\frac{\\\\mu \\\\left(1 - \\\\frac{r^{2}}{R_{t}^{2}}\\\\right)}{g}'"
      ]
     },
     "execution_count": 48,
     "metadata": {},
     "output_type": "execute_result"
    }
   ],
   "source": [
    "sp.latex(Solution_2)"
   ]
  },
  {
   "cell_type": "markdown",
   "metadata": {},
   "source": [
    "Solution:\n",
    "$$n{\\left(r \\right)} = \\frac{\\mu \\left(1 - \\frac{r^{2}}{R_{t}^{2}}\\right)}{g} \\ r\\leq R_t$$\n",
    "\n",
    "$$n(r) = 0 \\ r\\gt R_t$$\n",
    "\n",
    "The normalization condition imposes:\n",
    "$$ \\int^\\infty_0 dr\\ n(r) = \\int^{R_t}_0 dr\\ n(r) = N $$"
   ]
  },
  {
   "cell_type": "code",
   "execution_count": 49,
   "metadata": {},
   "outputs": [
    {
     "data": {
      "text/latex": [
       "$\\displaystyle N = \\frac{2 R_{t}^{3} \\mu}{15 g}$"
      ],
      "text/plain": [
       "Eq(N, 2*R_t**3*\\mu/(15*g))"
      ]
     },
     "execution_count": 49,
     "metadata": {},
     "output_type": "execute_result"
    }
   ],
   "source": [
    "Normalization = Eq(N, sp.integrate(r**2*Solution_2.args[1], (r, 0, Rt)))\n",
    "Normalization"
   ]
  },
  {
   "cell_type": "code",
   "execution_count": 50,
   "metadata": {},
   "outputs": [
    {
     "data": {
      "text/latex": [
       "$\\displaystyle N = \\frac{\\sqrt{2} \\mu^{\\frac{5}{2}}}{15 \\pi \\hbar^{2} \\omega_r^{3} a_{0} \\sqrt{m}}$"
      ],
      "text/plain": [
       "Eq(N, sqrt(2)*\\mu**(5/2)/(15*pi*\\hbar**2*\\omega_r**3*a_0*sqrt(m)))"
      ]
     },
     "execution_count": 50,
     "metadata": {},
     "output_type": "execute_result"
    }
   ],
   "source": [
    "Normalization_2 = Normalization.subs({Rt: 1/wr*sp.sqrt(2*mu/m),\n",
    "                   g: 4*sp.pi*hbar**2*ao/m})\n",
    "Normalization_2"
   ]
  },
  {
   "cell_type": "code",
   "execution_count": 54,
   "metadata": {},
   "outputs": [
    {
     "data": {
      "text/latex": [
       "$\\displaystyle \\mu = \\frac{15^{\\frac{2}{5}} \\cdot 2^{\\frac{4}{5}} \\pi^{\\frac{2}{5}} N^{\\frac{2}{5}} \\hbar^{\\frac{4}{5}} \\omega_r^{\\frac{6}{5}} a_{0}^{\\frac{2}{5}} \\sqrt[5]{m}}{2}$"
      ],
      "text/plain": [
       "Eq(\\mu, 15**(2/5)*2**(4/5)*pi**(2/5)*N**(2/5)*\\hbar**(4/5)*\\omega_r**(6/5)*a_0**(2/5)*m**(1/5)/2)"
      ]
     },
     "execution_count": 54,
     "metadata": {},
     "output_type": "execute_result"
    }
   ],
   "source": [
    "mu_normalization = Eq(mu, sp.solve(Normalization_2, mu)[0].simplify())\n",
    "mu_normalization"
   ]
  }
 ],
 "metadata": {
  "kernelspec": {
   "display_name": "Python 3",
   "language": "python",
   "name": "python3"
  },
  "language_info": {
   "codemirror_mode": {
    "name": "ipython",
    "version": 3
   },
   "file_extension": ".py",
   "mimetype": "text/x-python",
   "name": "python",
   "nbconvert_exporter": "python",
   "pygments_lexer": "ipython3",
   "version": "3.8.5"
  }
 },
 "nbformat": 4,
 "nbformat_minor": 4
}
