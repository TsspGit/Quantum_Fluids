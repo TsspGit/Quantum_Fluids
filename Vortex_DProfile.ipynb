{
 "cells": [
  {
   "cell_type": "code",
   "execution_count": 3,
   "id": "483dc7f5",
   "metadata": {},
   "outputs": [],
   "source": [
    "__author__ = 'Tomás Sánchez Sánchez-Pastor'\n",
    "__date__   = '27/10/21'\n",
    "import sympy as sp\n",
    "import numpy as np\n",
    "from sympy import Eq, diff\n",
    "from scipy.integrate import solve_bvp\n",
    "import matplotlib.pyplot as plt"
   ]
  },
  {
   "cell_type": "code",
   "execution_count": 104,
   "id": "e3b1987e",
   "metadata": {},
   "outputs": [],
   "source": [
    "r, l, alpha, beta = sp.symbols('\\\\bar{r} l \\\\alpha \\\\beta', positive=True)\n",
    "g = sp.Function('g')(r)"
   ]
  },
  {
   "cell_type": "code",
   "execution_count": 105,
   "id": "aa65a122",
   "metadata": {},
   "outputs": [
    {
     "data": {
      "text/latex": [
       "$\\displaystyle \\left(1 - \\frac{l^{2}}{\\bar{r}^{2}}\\right) g{\\left(\\bar{r} \\right)} - g^{3}{\\left(\\bar{r} \\right)} + \\frac{d^{2}}{d \\bar{r}^{2}} g{\\left(\\bar{r} \\right)} + \\frac{\\frac{d}{d \\bar{r}} g{\\left(\\bar{r} \\right)}}{\\bar{r}} = 0$"
      ],
      "text/plain": [
       "Eq((1 - l**2/\\bar{r}**2)*g(\\bar{r}) - g(\\bar{r})**3 + Derivative(g(\\bar{r}), (\\bar{r}, 2)) + Derivative(g(\\bar{r}), \\bar{r})/\\bar{r}, 0)"
      ]
     },
     "execution_count": 105,
     "metadata": {},
     "output_type": "execute_result"
    }
   ],
   "source": [
    "DP_eq = Eq((1- l**2/r**2)*g - g**3 + diff(g, r)/r + diff(g, r, 2), 0)\n",
    "DP_eq"
   ]
  },
  {
   "cell_type": "markdown",
   "id": "f3eea48e",
   "metadata": {},
   "source": [
    "# $\\bar{r} \\to 0$"
   ]
  },
  {
   "cell_type": "markdown",
   "id": "916da978",
   "metadata": {},
   "source": [
    "With this equation we can study the asymptotical behaviors of the solutions, we propose $g(\\bar{r}\\to 0) \\approx \\bar{r}\\ ^\\alpha$"
   ]
  },
  {
   "cell_type": "code",
   "execution_count": 106,
   "id": "1e91e226",
   "metadata": {},
   "outputs": [
    {
     "data": {
      "text/latex": [
       "$\\displaystyle \\bar{r}^{\\alpha - 2} \\left(\\alpha^{2} + \\bar{r}^{2} - \\bar{r}^{2 \\alpha + 2} - l^{2}\\right) = 0$"
      ],
      "text/plain": [
       "Eq(\\bar{r}**(\\alpha - 2)*(\\alpha**2 + \\bar{r}**2 - \\bar{r}**(2*\\alpha + 2) - l**2), 0)"
      ]
     },
     "execution_count": 106,
     "metadata": {},
     "output_type": "execute_result"
    }
   ],
   "source": [
    "Ansatz0 = DP_eq.subs({g: r**alpha}).doit()\n",
    "Ansatz0 = sp.simplify(Ansatz0)\n",
    "Ansatz0"
   ]
  },
  {
   "cell_type": "markdown",
   "id": "a27cc4e4",
   "metadata": {},
   "source": [
    "Drop the exponents higher than $\\bar{r}\\ ^{-\\alpha-2}$"
   ]
  },
  {
   "cell_type": "code",
   "execution_count": 107,
   "id": "90b02fd5",
   "metadata": {},
   "outputs": [
    {
     "data": {
      "text/latex": [
       "$\\displaystyle \\bar{r}^{- \\alpha - 2} \\left(\\alpha^{2} - l^{2}\\right) = 0$"
      ],
      "text/plain": [
       "Eq(\\bar{r}**(-\\alpha - 2)*(\\alpha**2 - l**2), 0)"
      ]
     },
     "execution_count": 107,
     "metadata": {},
     "output_type": "execute_result"
    }
   ],
   "source": [
    "Ansatz0 = Eq(r**(-alpha-2)*(alpha**2 - l**2), 0)\n",
    "Ansatz0"
   ]
  },
  {
   "cell_type": "markdown",
   "id": "2000ed83",
   "metadata": {},
   "source": [
    "So, for $\\alpha= |l|$ we have finite solutions"
   ]
  },
  {
   "cell_type": "markdown",
   "id": "5d151cbd",
   "metadata": {},
   "source": [
    "# $\\bar{r} \\to \\infty$\n",
    "\n",
    "We propose $g(\\bar{r}\\to \\infty) \\approx \\bar{r}\\ ^{-\\beta}$"
   ]
  },
  {
   "cell_type": "code",
   "execution_count": 108,
   "id": "f587bb0f",
   "metadata": {},
   "outputs": [
    {
     "data": {
      "text/latex": [
       "$\\displaystyle \\bar{r}^{- \\beta} - \\bar{r}^{- 3 \\beta} + \\frac{\\bar{r}^{- \\beta} \\beta^{2}}{\\bar{r}^{2}} - \\frac{\\bar{r}^{- \\beta} l^{2}}{\\bar{r}^{2}} = 0$"
      ],
      "text/plain": [
       "Eq(\\bar{r}**(-\\beta) - \\bar{r}**(-3*\\beta) + \\bar{r}**(-\\beta)*\\beta**2/\\bar{r}**2 - \\bar{r}**(-\\beta)*l**2/\\bar{r}**2, 0)"
      ]
     },
     "execution_count": 108,
     "metadata": {},
     "output_type": "execute_result"
    }
   ],
   "source": [
    "Ansatzoo = DP_eq.subs({g: r**(-beta)}).doit()\n",
    "Ansatzoo = sp.simplify(Ansatzoo).expand()\n",
    "Ansatzoo"
   ]
  },
  {
   "cell_type": "markdown",
   "id": "1c20de02",
   "metadata": {},
   "source": [
    "Drop the exponents lower than $\\bar{r}\\ ^{-\\beta-2}$"
   ]
  },
  {
   "cell_type": "code",
   "execution_count": 109,
   "id": "bb3f4dd2",
   "metadata": {},
   "outputs": [
    {
     "data": {
      "text/latex": [
       "$\\displaystyle \\bar{r}^{- \\beta} - \\bar{r}^{- 3 \\beta} = 0$"
      ],
      "text/plain": [
       "Eq(\\bar{r}**(-\\beta) - \\bar{r}**(-3*\\beta), 0)"
      ]
     },
     "execution_count": 109,
     "metadata": {},
     "output_type": "execute_result"
    }
   ],
   "source": [
    "Ansatzoo = Eq(r**-beta - r**(-3*beta), 0)\n",
    "Ansatzoo"
   ]
  },
  {
   "cell_type": "markdown",
   "id": "c7e5e6d9",
   "metadata": {},
   "source": [
    "For every $\\beta > 0$ this is a finite solution"
   ]
  },
  {
   "cell_type": "markdown",
   "id": "a32034d7",
   "metadata": {},
   "source": [
    "# Numerical solution"
   ]
  },
  {
   "cell_type": "markdown",
   "id": "90b23be8",
   "metadata": {},
   "source": [
    "Let us transform the second order equation on a system of first order equations:\n",
    "\n",
    "\\begin{eqnarray}\n",
    "    g'(\\bar{r}) &=& G(\\bar{r})\\\\\n",
    "    G'(\\bar{r}) &=& -\\left( 1-\\frac{l^2}{\\bar{r}^2}\\right) g(\\bar{r}) + g^3(\\bar{r}) - \\frac{G(\\bar{r})}{\\bar{r}}\n",
    "\\end{eqnarray}\n",
    "\n",
    "The boundary conditions are given by the asymptotic behaviors of the radial densities:\n",
    "\n",
    "\\begin{eqnarray}\n",
    "    g(\\bar{r} \\to 0) &\\approx& \\bar{r}\\ ^\\alpha,\\ \\alpha = l,\\ l=0, 1, 2, 3, ...\\\\\n",
    "    g(\\bar{r} \\to \\infty) &\\approx& \\bar{r}\\ ^{-\\beta},\\ \\beta >0.\n",
    "\\end{eqnarray}\n",
    "\n",
    "Numerically y[0] is g and y[1] is G. We have to start from one of the extrems and integrate forwards/backwards in $\\bar{r}$."
   ]
  }
 ],
 "metadata": {
  "kernelspec": {
   "display_name": "Python [conda env:root] *",
   "language": "python",
   "name": "conda-root-py"
  },
  "language_info": {
   "codemirror_mode": {
    "name": "ipython",
    "version": 3
   },
   "file_extension": ".py",
   "mimetype": "text/x-python",
   "name": "python",
   "nbconvert_exporter": "python",
   "pygments_lexer": "ipython3",
   "version": "3.8.8"
  }
 },
 "nbformat": 4,
 "nbformat_minor": 5
}
