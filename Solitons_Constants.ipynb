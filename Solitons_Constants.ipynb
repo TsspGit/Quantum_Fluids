{
 "cells": [
  {
   "cell_type": "code",
   "execution_count": 1,
   "id": "2592d6a4",
   "metadata": {},
   "outputs": [],
   "source": [
    "__author__ = \"@Tssp\"\n",
    "__date__ = \"08/11/21\"\n",
    "import numpy as np\n",
    "from math import pi\n",
    "import sympy as sp"
   ]
  },
  {
   "cell_type": "markdown",
   "id": "5b674c0c",
   "metadata": {},
   "source": [
    "For a dark soliton, the integrals of motion in Eqs. (4.35,4.36,4.37) are renormalized so as to remove the contribution from the background and lead to finite values,\n",
    "\n",
    "$$N = \\int^{\\infty}_{-\\infty}dx\\ (n_0 - |\\psi|^2)$$\n",
    "\n",
    "$$P = \\frac{i\\hbar}{2}\\int^{\\infty}_{-\\infty}dx\\ \\left( \\psi \\partial_x \\psi^* - \\psi^* \\partial_x \\psi \\right)\\left( 1 - \\frac{\\rho_0}{|\\psi|^2}\\right)$$\n",
    "\n",
    "$$E = \\int^{\\infty}_{-\\infty}dx\\ \\left( \\frac{\\hbar^2}{2m}\\left|\\partial_x \\psi\\right|^2 + \\frac{g}{2}(|\\psi|^2 - n_0)^2 \\right)$$"
   ]
  },
  {
   "cell_type": "code",
   "execution_count": 2,
   "id": "9575c090",
   "metadata": {},
   "outputs": [],
   "source": [
    "x, t, v, mu, nu = sp.symbols('x t v \\\\mu \\\\nu', real=True)\n",
    "rho0, g, xi, gamma, hbar, m = sp.symbols('\\\\rho_0 g xi \\gamma h m', real=True, positive=True)"
   ]
  },
  {
   "cell_type": "code",
   "execution_count": 3,
   "id": "24891b22",
   "metadata": {},
   "outputs": [
    {
     "data": {
      "text/latex": [
       "$\\displaystyle \\sqrt{\\rho_{0}} \\left(\\gamma \\tanh{\\left(\\frac{\\gamma x}{\\xi} \\right)} + i \\nu\\right) e^{- \\frac{i \\mu t}{h}}$"
      ],
      "text/plain": [
       "sqrt(\\rho_0)*(\\gamma*tanh(\\gamma*x/xi) + I*\\nu)*exp(-I*\\mu*t/h)"
      ]
     },
     "execution_count": 3,
     "metadata": {},
     "output_type": "execute_result"
    }
   ],
   "source": [
    "psi = sp.sqrt(rho0)*(sp.I*nu + gamma*sp.tanh((x)*gamma/xi))*sp.exp(-sp.I*mu*t/hbar)\n",
    "psi"
   ]
  },
  {
   "cell_type": "code",
   "execution_count": 4,
   "id": "332f9ac3",
   "metadata": {},
   "outputs": [
    {
     "data": {
      "text/latex": [
       "$\\displaystyle \\rho_{0} \\left(\\gamma^{2} \\tanh^{2}{\\left(\\frac{\\gamma x}{\\xi} \\right)} + \\nu^{2}\\right)$"
      ],
      "text/plain": [
       "\\rho_0*(\\gamma**2*tanh(\\gamma*x/xi)**2 + \\nu**2)"
      ]
     },
     "execution_count": 4,
     "metadata": {},
     "output_type": "execute_result"
    }
   ],
   "source": [
    "psi2 = sp.simplify(psi*sp.conjugate(psi))\n",
    "psi2"
   ]
  },
  {
   "cell_type": "code",
   "execution_count": 5,
   "id": "7ef85ede",
   "metadata": {},
   "outputs": [
    {
     "data": {
      "text/latex": [
       "$\\displaystyle \\frac{\\gamma^{4} \\rho_{0}}{\\xi^{2} \\cosh^{4}{\\left(\\frac{\\gamma x}{\\xi} \\right)}}$"
      ],
      "text/plain": [
       "\\gamma**4*\\rho_0/(xi**2*cosh(\\gamma*x/xi)**4)"
      ]
     },
     "execution_count": 5,
     "metadata": {},
     "output_type": "execute_result"
    }
   ],
   "source": [
    "dpsi2 = sp.simplify(sp.diff(psi, x)*sp.conjugate(sp.diff(psi, x)))\n",
    "dpsi2"
   ]
  },
  {
   "cell_type": "markdown",
   "id": "caeb8217",
   "metadata": {},
   "source": [
    "# N"
   ]
  },
  {
   "cell_type": "code",
   "execution_count": 6,
   "id": "cd71e92a",
   "metadata": {},
   "outputs": [
    {
     "data": {
      "text/latex": [
       "$\\displaystyle \\frac{\\gamma^{2} \\rho_{0}}{\\cosh^{2}{\\left(\\frac{\\gamma x}{\\xi} \\right)}}$"
      ],
      "text/plain": [
       "\\gamma**2*\\rho_0/cosh(\\gamma*x/xi)**2"
      ]
     },
     "execution_count": 6,
     "metadata": {},
     "output_type": "execute_result"
    }
   ],
   "source": [
    "dN = sp.simplify(rho0 - psi2)\n",
    "dN = sp.simplify(dN.subs({nu**2-1: -gamma**2}))\n",
    "dN"
   ]
  },
  {
   "cell_type": "code",
   "execution_count": 7,
   "id": "ed2dbeba",
   "metadata": {},
   "outputs": [
    {
     "data": {
      "text/latex": [
       "$\\displaystyle 2 \\gamma \\rho_{0} \\xi$"
      ],
      "text/plain": [
       "2*\\gamma*\\rho_0*xi"
      ]
     },
     "execution_count": 7,
     "metadata": {},
     "output_type": "execute_result"
    }
   ],
   "source": [
    "N = sp.simplify(sp.integrate(dN, x))\n",
    "sp.limit(N, x, sp.oo) - sp.limit(N, x, -sp.oo)"
   ]
  },
  {
   "cell_type": "markdown",
   "id": "0438aac8",
   "metadata": {},
   "source": [
    "# E"
   ]
  },
  {
   "cell_type": "code",
   "execution_count": 8,
   "id": "f4214fef",
   "metadata": {},
   "outputs": [
    {
     "data": {
      "text/latex": [
       "$\\displaystyle \\frac{\\gamma^{4} \\rho_{0} \\left(\\rho_{0} g m \\xi^{2} + h^{2}\\right)}{2 m \\xi^{2} \\cosh^{4}{\\left(\\frac{\\gamma x}{\\xi} \\right)}}$"
      ],
      "text/plain": [
       "\\gamma**4*\\rho_0*(\\rho_0*g*m*xi**2 + h**2)/(2*m*xi**2*cosh(\\gamma*x/xi)**4)"
      ]
     },
     "execution_count": 8,
     "metadata": {},
     "output_type": "execute_result"
    }
   ],
   "source": [
    "dE = sp.simplify(hbar**2/(2*m) * dpsi2 + g/2*(psi2-rho0)**2)\n",
    "dE = sp.simplify(dE.subs({1-nu**2: gamma**2}))\n",
    "dE"
   ]
  },
  {
   "cell_type": "code",
   "execution_count": 9,
   "id": "f5a36bf8",
   "metadata": {
    "scrolled": true
   },
   "outputs": [
    {
     "data": {
      "text/latex": [
       "$\\displaystyle \\frac{2 \\gamma^{3} \\rho_{0} \\left(\\rho_{0} g m \\xi^{2} + h^{2}\\right)}{3 m \\xi}$"
      ],
      "text/plain": [
       "2*\\gamma**3*\\rho_0*(\\rho_0*g*m*xi**2 + h**2)/(3*m*xi)"
      ]
     },
     "execution_count": 9,
     "metadata": {},
     "output_type": "execute_result"
    }
   ],
   "source": [
    "E = gamma**4*rho0*(rho0*g*m*xi**2 + hbar**2)/(2*m*xi**2)*(sp.tanh(gamma*x/xi) - sp.tanh(gamma*x/xi)**3/3)*xi/gamma\n",
    "E = sp.simplify(sp.limit(E, x, sp.oo) - sp.limit(E, x, -sp.oo))\n",
    "E"
   ]
  },
  {
   "cell_type": "code",
   "execution_count": 10,
   "id": "f1b99002",
   "metadata": {},
   "outputs": [],
   "source": [
    "c = sp.symbols('c')"
   ]
  },
  {
   "cell_type": "code",
   "execution_count": 11,
   "id": "da189799",
   "metadata": {},
   "outputs": [
    {
     "data": {
      "text/latex": [
       "$\\displaystyle \\frac{4 \\gamma^{3} \\rho_{0} c h}{3}$"
      ],
      "text/plain": [
       "4*\\gamma**3*\\rho_0*c*h/3"
      ]
     },
     "execution_count": 11,
     "metadata": {},
     "output_type": "execute_result"
    }
   ],
   "source": [
    "E = E.subs({xi: hbar/sp.sqrt(m*g*rho0)}).subs({sp.sqrt(rho0*g/m): c})\n",
    "E"
   ]
  },
  {
   "cell_type": "markdown",
   "id": "504ca9f1",
   "metadata": {},
   "source": [
    "Natrurally, the energy depends on the velocity of the soliton"
   ]
  },
  {
   "cell_type": "markdown",
   "id": "cbf9141d",
   "metadata": {},
   "source": [
    "# P"
   ]
  },
  {
   "cell_type": "code",
   "execution_count": 12,
   "id": "47da66af",
   "metadata": {},
   "outputs": [
    {
     "data": {
      "text/latex": [
       "$\\displaystyle - 2 \\gamma \\nu \\rho_{0} h + 2 \\rho_{0} h \\operatorname{atan}{\\left(\\frac{\\gamma}{\\nu} \\right)}$"
      ],
      "text/plain": [
       "-2*\\gamma*\\nu*\\rho_0*h + 2*\\rho_0*h*atan(\\gamma/\\nu)"
      ]
     },
     "execution_count": 12,
     "metadata": {},
     "output_type": "execute_result"
    }
   ],
   "source": [
    "P = -2*hbar*rho0*nu*gamma + 2*hbar*rho0*sp.atan(gamma/nu)\n",
    "P"
   ]
  },
  {
   "cell_type": "markdown",
   "id": "de8c36f8",
   "metadata": {},
   "source": [
    "# Particle-Like Behaviour"
   ]
  },
  {
   "cell_type": "code",
   "execution_count": 13,
   "id": "e521257f",
   "metadata": {
    "scrolled": true
   },
   "outputs": [
    {
     "data": {
      "text/latex": [
       "$\\displaystyle - \\frac{4 \\gamma \\rho_{0} h v}{c}$"
      ],
      "text/plain": [
       "-4*\\gamma*\\rho_0*h*v/c"
      ]
     },
     "execution_count": 13,
     "metadata": {},
     "output_type": "execute_result"
    }
   ],
   "source": [
    "sp.diff(E.subs({gamma: sp.sqrt(1 - nu**2), nu: v/c}), v).subs({sp.sqrt(1 - v**2/c**2): gamma})"
   ]
  },
  {
   "cell_type": "code",
   "execution_count": 14,
   "id": "6c2774b2",
   "metadata": {
    "scrolled": true
   },
   "outputs": [
    {
     "data": {
      "text/latex": [
       "$\\displaystyle - \\frac{4 \\gamma \\rho_{0} h}{c}$"
      ],
      "text/plain": [
       "-4*\\gamma*\\rho_0*h/c"
      ]
     },
     "execution_count": 14,
     "metadata": {},
     "output_type": "execute_result"
    }
   ],
   "source": [
    "sp.simplify(sp.diff(P.subs({gamma: sp.sqrt(1 - nu**2), nu: v/c}), v).subs({sp.sqrt(1 - v**2/c**2): gamma}))"
   ]
  },
  {
   "cell_type": "markdown",
   "id": "38a87a75",
   "metadata": {},
   "source": [
    "Classically $\\frac{dE}{dP} = v$ and here occurs the same, so dark solitons behaves as classical particles!"
   ]
  },
  {
   "cell_type": "code",
   "execution_count": 19,
   "id": "7a75371d",
   "metadata": {},
   "outputs": [
    {
     "data": {
      "text/latex": [
       "$\\displaystyle - \\frac{2 \\rho_{0} h v^{2}}{c} + \\frac{4 \\rho_{0} c h}{3} + O\\left(v^{3}\\right)$"
      ],
      "text/plain": [
       "-2*\\rho_0*h*v**2/c + 4*\\rho_0*c*h/3 + O(v**3)"
      ]
     },
     "execution_count": 19,
     "metadata": {},
     "output_type": "execute_result"
    }
   ],
   "source": [
    "sp.series(E.subs({gamma: sp.sqrt(1 - nu**2), nu: v/c}), v, n=3)"
   ]
  },
  {
   "cell_type": "markdown",
   "id": "de19c554",
   "metadata": {},
   "source": [
    "The effective mass in the limit of small velocities is then $m_{eff}=-\\frac{4\\hbar\\rho_0}{c}$"
   ]
  }
 ],
 "metadata": {
  "kernelspec": {
   "display_name": "Python [conda env:root] *",
   "language": "python",
   "name": "conda-root-py"
  },
  "language_info": {
   "codemirror_mode": {
    "name": "ipython",
    "version": 3
   },
   "file_extension": ".py",
   "mimetype": "text/x-python",
   "name": "python",
   "nbconvert_exporter": "python",
   "pygments_lexer": "ipython3",
   "version": "3.8.8"
  }
 },
 "nbformat": 4,
 "nbformat_minor": 5
}
