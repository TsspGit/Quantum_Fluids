{
 "cells": [
  {
   "cell_type": "code",
   "execution_count": 1,
   "metadata": {},
   "outputs": [],
   "source": [
    "__author__ = \"@Tssp\"\n",
    "__date__   = \"17/03/2021\"\n",
    "import sympy as sp\n",
    "import numpy as np"
   ]
  },
  {
   "cell_type": "markdown",
   "metadata": {},
   "source": [
    "This notebook is aimed to obtain the superfluid hydrodynamic equations of motions through the Madelung representation of the Gross Pitaevskii equation."
   ]
  },
  {
   "cell_type": "code",
   "execution_count": 9,
   "metadata": {},
   "outputs": [],
   "source": [
    "x, t, m, hbar = sp.symbols('x t m \\\\hbar', real=True)\n",
    "psi = sp.Function('\\\\psi', real=False)(x, t)  # wavefunction\n",
    "rho = sp.Function('\\\\rho', real=True)(x, t)  # probability density\n",
    "V   = sp.Function('V', real=True)(x, t)      # Trap Potential\n",
    "S   = sp.Function('S', real=True)(x, t)      # Madelung Ansatz\n",
    "v   = sp.Function('v', real=True)(x, t)      # fluid velocity\n",
    "Pq   = sp.Function('P_Q', real=True)(x, t)   # Quantum Preassure\n",
    "g   = sp.symbols('g', real=True)             # g constant"
   ]
  },
  {
   "cell_type": "code",
   "execution_count": 10,
   "metadata": {},
   "outputs": [
    {
     "data": {
      "text/latex": [
       "$\\displaystyle \\frac{\\bar{\\h}^{2} \\frac{\\partial^{2}}{\\partial x^{2}} \\psi{\\left(x,t \\right)}}{2 m} + i \\bar{\\h} \\frac{\\partial}{\\partial t} \\psi{\\left(x,t \\right)} - g \\psi{\\left(x,t \\right)} \\left|{\\psi{\\left(x,t \\right)}}\\right|^{2} - V{\\left(x,t \\right)} \\psi{\\left(x,t \\right)}$"
      ],
      "text/plain": [
       "\\hbar**2*Derivative(\\psi(x, t), (x, 2))/(2*m) + I*\\hbar*Derivative(\\psi(x, t), t) - g*\\psi(x, t)*Abs(\\psi(x, t))**2 - V(x, t)*\\psi(x, t)"
      ]
     },
     "execution_count": 10,
     "metadata": {},
     "output_type": "execute_result"
    }
   ],
   "source": [
    "Schr_eq = sp.I * hbar * sp.diff(psi, t) + (hbar**2/(2*m) * sp.diff(psi, x, 2) - V * psi - g*abs(psi)**2 * psi)\n",
    "Schr_eq"
   ]
  },
  {
   "cell_type": "markdown",
   "metadata": {},
   "source": [
    "Madelung transformation: $$\\psi(x,t) = \\sqrt{\\rho(x,t)} e^{imS(x,t)/\\hbar}$$"
   ]
  },
  {
   "cell_type": "code",
   "execution_count": 4,
   "metadata": {},
   "outputs": [
    {
     "data": {
      "text/latex": [
       "$\\displaystyle \\frac{\\bar{\\h}^{2} \\left(\\frac{2 \\frac{\\partial^{2}}{\\partial x^{2}} \\rho{\\left(x,t \\right)} - \\frac{\\left(\\frac{\\partial}{\\partial x} \\rho{\\left(x,t \\right)}\\right)^{2}}{\\rho{\\left(x,t \\right)}}}{4 \\sqrt{\\rho{\\left(x,t \\right)}}} + \\frac{m \\left(i \\frac{\\partial^{2}}{\\partial x^{2}} S{\\left(x,t \\right)} - \\frac{m \\left(\\frac{\\partial}{\\partial x} S{\\left(x,t \\right)}\\right)^{2}}{\\bar{\\h}}\\right) \\sqrt{\\rho{\\left(x,t \\right)}}}{\\bar{\\h}} + \\frac{i m \\frac{\\partial}{\\partial x} S{\\left(x,t \\right)} \\frac{\\partial}{\\partial x} \\rho{\\left(x,t \\right)}}{\\bar{\\h} \\sqrt{\\rho{\\left(x,t \\right)}}}\\right)}{2 m} + i \\bar{\\h} \\left(\\frac{\\frac{\\partial}{\\partial t} \\rho{\\left(x,t \\right)}}{2 \\sqrt{\\rho{\\left(x,t \\right)}}} + \\frac{i m \\sqrt{\\rho{\\left(x,t \\right)}} \\frac{\\partial}{\\partial t} S{\\left(x,t \\right)}}{\\bar{\\h}}\\right) - g \\sqrt{\\rho{\\left(x,t \\right)}} \\left|{\\sqrt{\\rho{\\left(x,t \\right)}}}\\right|^{2} - V{\\left(x,t \\right)} \\sqrt{\\rho{\\left(x,t \\right)}}$"
      ],
      "text/plain": [
       "\\hbar**2*((2*Derivative(\\rho(x, t), (x, 2)) - Derivative(\\rho(x, t), x)**2/\\rho(x, t))/(4*sqrt(\\rho(x, t))) + m*(I*Derivative(S(x, t), (x, 2)) - m*Derivative(S(x, t), x)**2/\\hbar)*sqrt(\\rho(x, t))/\\hbar + I*m*Derivative(S(x, t), x)*Derivative(\\rho(x, t), x)/(\\hbar*sqrt(\\rho(x, t))))/(2*m) + I*\\hbar*(Derivative(\\rho(x, t), t)/(2*sqrt(\\rho(x, t))) + I*m*sqrt(\\rho(x, t))*Derivative(S(x, t), t)/\\hbar) - g*sqrt(\\rho(x, t))*Abs(sqrt(\\rho(x, t)))**2 - V(x, t)*sqrt(\\rho(x, t))"
      ]
     },
     "execution_count": 4,
     "metadata": {},
     "output_type": "execute_result"
    }
   ],
   "source": [
    "Schr_madelung = sp.simplify(Schr_eq.subs({psi:sp.sqrt(rho)*sp.exp(sp.I*m*S/hbar)})).\\\n",
    "collect(sp.exp(sp.I*m*S/hbar))/sp.exp(sp.I*m*S/hbar)\n",
    "Schr_madelung"
   ]
  },
  {
   "cell_type": "code",
   "execution_count": 5,
   "metadata": {},
   "outputs": [
    {
     "data": {
      "text/latex": [
       "$\\displaystyle \\frac{\\bar{\\h}^{2} \\frac{\\partial^{2}}{\\partial x^{2}} \\rho{\\left(x,t \\right)}}{4 m \\sqrt{\\rho{\\left(x,t \\right)}}} - \\frac{\\bar{\\h}^{2} \\left(\\frac{\\partial}{\\partial x} \\rho{\\left(x,t \\right)}\\right)^{2}}{8 m \\rho^{\\frac{3}{2}}{\\left(x,t \\right)}} + \\frac{i \\bar{\\h} \\sqrt{\\rho{\\left(x,t \\right)}} \\frac{\\partial^{2}}{\\partial x^{2}} S{\\left(x,t \\right)}}{2} + \\frac{i \\bar{\\h} \\frac{\\partial}{\\partial x} S{\\left(x,t \\right)} \\frac{\\partial}{\\partial x} \\rho{\\left(x,t \\right)}}{2 \\sqrt{\\rho{\\left(x,t \\right)}}} + \\frac{i \\bar{\\h} \\frac{\\partial}{\\partial t} \\rho{\\left(x,t \\right)}}{2 \\sqrt{\\rho{\\left(x,t \\right)}}} - g \\sqrt{\\rho{\\left(x,t \\right)}} \\left|{\\sqrt{\\rho{\\left(x,t \\right)}}}\\right|^{2} - m \\sqrt{\\rho{\\left(x,t \\right)}} \\frac{\\partial}{\\partial t} S{\\left(x,t \\right)} - \\frac{m \\sqrt{\\rho{\\left(x,t \\right)}} \\left(\\frac{\\partial}{\\partial x} S{\\left(x,t \\right)}\\right)^{2}}{2} - V{\\left(x,t \\right)} \\sqrt{\\rho{\\left(x,t \\right)}}$"
      ],
      "text/plain": [
       "\\hbar**2*Derivative(\\rho(x, t), (x, 2))/(4*m*sqrt(\\rho(x, t))) - \\hbar**2*Derivative(\\rho(x, t), x)**2/(8*m*\\rho(x, t)**(3/2)) + I*\\hbar*sqrt(\\rho(x, t))*Derivative(S(x, t), (x, 2))/2 + I*\\hbar*Derivative(S(x, t), x)*Derivative(\\rho(x, t), x)/(2*sqrt(\\rho(x, t))) + I*\\hbar*Derivative(\\rho(x, t), t)/(2*sqrt(\\rho(x, t))) - g*sqrt(\\rho(x, t))*Abs(sqrt(\\rho(x, t)))**2 - m*sqrt(\\rho(x, t))*Derivative(S(x, t), t) - m*sqrt(\\rho(x, t))*Derivative(S(x, t), x)**2/2 - V(x, t)*sqrt(\\rho(x, t))"
      ]
     },
     "execution_count": 5,
     "metadata": {},
     "output_type": "execute_result"
    }
   ],
   "source": [
    "Schr_madelung = Schr_madelung.expand()\n",
    "Schr_madelung"
   ]
  },
  {
   "cell_type": "code",
   "execution_count": 6,
   "metadata": {},
   "outputs": [
    {
     "data": {
      "text/latex": [
       "$\\displaystyle \\frac{\\bar{\\h} \\sqrt{\\rho{\\left(x,t \\right)}} \\frac{\\partial^{2}}{\\partial x^{2}} S{\\left(x,t \\right)}}{2} + \\frac{\\bar{\\h} \\frac{\\partial}{\\partial x} S{\\left(x,t \\right)} \\frac{\\partial}{\\partial x} \\rho{\\left(x,t \\right)}}{2 \\sqrt{\\rho{\\left(x,t \\right)}}} + \\frac{\\bar{\\h} \\frac{\\partial}{\\partial t} \\rho{\\left(x,t \\right)}}{2 \\sqrt{\\rho{\\left(x,t \\right)}}}$"
      ],
      "text/plain": [
       "\\hbar*sqrt(\\rho(x, t))*Derivative(S(x, t), (x, 2))/2 + \\hbar*Derivative(S(x, t), x)*Derivative(\\rho(x, t), x)/(2*sqrt(\\rho(x, t))) + \\hbar*Derivative(\\rho(x, t), t)/(2*sqrt(\\rho(x, t)))"
      ]
     },
     "execution_count": 6,
     "metadata": {},
     "output_type": "execute_result"
    }
   ],
   "source": [
    "Im_eq = Schr_madelung.coeff(sp.I, n=1)\n",
    "Im_eq"
   ]
  },
  {
   "cell_type": "markdown",
   "metadata": {},
   "source": [
    "## Imaginary part"
   ]
  },
  {
   "cell_type": "markdown",
   "metadata": {},
   "source": [
    "Defining:\n",
    "$$\\vec{v} = \\frac{\\partial S(x,t)}{\\partial x}$$"
   ]
  },
  {
   "cell_type": "code",
   "execution_count": 7,
   "metadata": {},
   "outputs": [
    {
     "data": {
      "text/latex": [
       "$\\displaystyle m \\rho{\\left(x,t \\right)} \\frac{\\partial^{2}}{\\partial x^{2}} S{\\left(x,t \\right)} + m \\frac{\\partial}{\\partial x} S{\\left(x,t \\right)} \\frac{\\partial}{\\partial x} \\rho{\\left(x,t \\right)} + m \\frac{\\partial}{\\partial t} \\rho{\\left(x,t \\right)}$"
      ],
      "text/plain": [
       "m*\\rho(x, t)*Derivative(S(x, t), (x, 2)) + m*Derivative(S(x, t), x)*Derivative(\\rho(x, t), x) + m*Derivative(\\rho(x, t), t)"
      ]
     },
     "execution_count": 7,
     "metadata": {},
     "output_type": "execute_result"
    }
   ],
   "source": [
    "Im_eq = (Im_eq * 2 * m/hbar* sp.sqrt(rho)).expand()\n",
    "Im_eq"
   ]
  },
  {
   "cell_type": "code",
   "execution_count": 8,
   "metadata": {},
   "outputs": [
    {
     "data": {
      "text/latex": [
       "$\\displaystyle \\rho{\\left(x,t \\right)} \\frac{\\partial^{2}}{\\partial x^{2}} S{\\left(x,t \\right)} + \\frac{\\partial}{\\partial x} S{\\left(x,t \\right)} \\frac{\\partial}{\\partial x} \\rho{\\left(x,t \\right)}$"
      ],
      "text/plain": [
       "\\rho(x, t)*Derivative(S(x, t), (x, 2)) + Derivative(S(x, t), x)*Derivative(\\rho(x, t), x)"
      ]
     },
     "execution_count": 8,
     "metadata": {},
     "output_type": "execute_result"
    }
   ],
   "source": [
    "sp.diff(rho*sp.diff(S, x), x)"
   ]
  },
  {
   "cell_type": "code",
   "execution_count": 9,
   "metadata": {},
   "outputs": [
    {
     "data": {
      "text/latex": [
       "$\\displaystyle m \\rho{\\left(x,t \\right)} \\frac{\\partial^{2}}{\\partial x^{2}} S{\\left(x,t \\right)} + m \\frac{\\partial}{\\partial x} S{\\left(x,t \\right)} \\frac{\\partial}{\\partial x} \\rho{\\left(x,t \\right)} + m \\frac{\\partial}{\\partial t} \\rho{\\left(x,t \\right)}$"
      ],
      "text/plain": [
       "m*\\rho(x, t)*Derivative(S(x, t), (x, 2)) + m*Derivative(S(x, t), x)*Derivative(\\rho(x, t), x) + m*Derivative(\\rho(x, t), t)"
      ]
     },
     "execution_count": 9,
     "metadata": {},
     "output_type": "execute_result"
    }
   ],
   "source": [
    "Im_eq.subs({rho*sp.diff(S, x, 2): sp.diff(rho*sp.diff(S, x), x) - sp.diff(S, x) * sp.diff(rho, x)})"
   ]
  },
  {
   "cell_type": "markdown",
   "metadata": {},
   "source": [
    "$$m\\frac{\\partial \\rho}{\\partial t} - \\frac{\\partial}{\\partial x}\\left((\\rho \\frac{\\partial}{\\partial x}S) - S - \\rho + S + \\rho \\right) = 0$$\n",
    "\n",
    "Or:\n",
    "\n",
    "$$m\\frac{\\partial \\rho}{\\partial t} - \\frac{\\partial}{\\partial x}\\left((\\rho \\frac{\\partial}{\\partial x}S)\\right) = 0$$\n",
    "\n",
    "$$\\frac{\\partial \\rho}{\\partial t} - \\frac{\\partial}{\\partial x}\\left(\\rho v\\right) = 0$$\n",
    "\n",
    "A continuity equation, in 3D\n",
    "$$\\frac{\\partial \\rho}{\\partial t} - \\nabla\\left(\\rho v\\right) = 0$$\n",
    "\n"
   ]
  },
  {
   "cell_type": "markdown",
   "metadata": {},
   "source": [
    "## Real part"
   ]
  },
  {
   "cell_type": "markdown",
   "metadata": {},
   "source": [
    "In this part we are going to treat $\\sqrt{\\rho}$ as an unique variable in order to forbid Python to literally express the derivative and therefore simplify the equations"
   ]
  },
  {
   "cell_type": "code",
   "execution_count": 10,
   "metadata": {},
   "outputs": [],
   "source": [
    "sqrt_rho = sp.Function('\\sqrt{\\\\rho}', real=True)(x, t)"
   ]
  },
  {
   "cell_type": "code",
   "execution_count": 11,
   "metadata": {},
   "outputs": [
    {
     "data": {
      "text/latex": [
       "$\\displaystyle \\frac{\\bar{\\h}^{2} \\left(\\frac{\\partial^{2}}{\\partial x^{2}} \\sqrt{\\rho}{\\left(x,t \\right)} + \\frac{m \\left(i \\frac{\\partial^{2}}{\\partial x^{2}} S{\\left(x,t \\right)} - \\frac{m \\left(\\frac{\\partial}{\\partial x} S{\\left(x,t \\right)}\\right)^{2}}{\\bar{\\h}}\\right) \\sqrt{\\rho}{\\left(x,t \\right)}}{\\bar{\\h}} + \\frac{2 i m \\frac{\\partial}{\\partial x} S{\\left(x,t \\right)} \\frac{\\partial}{\\partial x} \\sqrt{\\rho}{\\left(x,t \\right)}}{\\bar{\\h}}\\right)}{2 m} + i \\bar{\\h} \\left(\\frac{\\partial}{\\partial t} \\sqrt{\\rho}{\\left(x,t \\right)} + \\frac{i m \\sqrt{\\rho}{\\left(x,t \\right)} \\frac{\\partial}{\\partial t} S{\\left(x,t \\right)}}{\\bar{\\h}}\\right) - g \\sqrt{\\rho}^{3}{\\left(x,t \\right)} - V{\\left(x,t \\right)} \\sqrt{\\rho}{\\left(x,t \\right)}$"
      ],
      "text/plain": [
       "\\hbar**2*(Derivative(\\sqrt{\\rho}(x, t), (x, 2)) + m*(I*Derivative(S(x, t), (x, 2)) - m*Derivative(S(x, t), x)**2/\\hbar)*\\sqrt{\\rho}(x, t)/\\hbar + 2*I*m*Derivative(S(x, t), x)*Derivative(\\sqrt{\\rho}(x, t), x)/\\hbar)/(2*m) + I*\\hbar*(Derivative(\\sqrt{\\rho}(x, t), t) + I*m*\\sqrt{\\rho}(x, t)*Derivative(S(x, t), t)/\\hbar) - g*\\sqrt{\\rho}(x, t)**3 - V(x, t)*\\sqrt{\\rho}(x, t)"
      ]
     },
     "execution_count": 11,
     "metadata": {},
     "output_type": "execute_result"
    }
   ],
   "source": [
    "Schr_madelung = sp.simplify(Schr_eq.subs({psi:sqrt_rho*sp.exp(sp.I*m*S/hbar)})).\\\n",
    "collect(sp.exp(sp.I*m*S/hbar))/sp.exp(sp.I*m*S/hbar)\n",
    "Schr_madelung"
   ]
  },
  {
   "cell_type": "code",
   "execution_count": 12,
   "metadata": {},
   "outputs": [
    {
     "data": {
      "text/latex": [
       "$\\displaystyle \\frac{\\bar{\\h}^{2} \\frac{\\partial^{2}}{\\partial x^{2}} \\sqrt{\\rho}{\\left(x,t \\right)}}{2 m} + \\frac{i \\bar{\\h} \\sqrt{\\rho}{\\left(x,t \\right)} \\frac{\\partial^{2}}{\\partial x^{2}} S{\\left(x,t \\right)}}{2} + i \\bar{\\h} \\frac{\\partial}{\\partial x} S{\\left(x,t \\right)} \\frac{\\partial}{\\partial x} \\sqrt{\\rho}{\\left(x,t \\right)} + i \\bar{\\h} \\frac{\\partial}{\\partial t} \\sqrt{\\rho}{\\left(x,t \\right)} - g \\sqrt{\\rho}^{3}{\\left(x,t \\right)} - m \\sqrt{\\rho}{\\left(x,t \\right)} \\frac{\\partial}{\\partial t} S{\\left(x,t \\right)} - \\frac{m \\sqrt{\\rho}{\\left(x,t \\right)} \\left(\\frac{\\partial}{\\partial x} S{\\left(x,t \\right)}\\right)^{2}}{2} - V{\\left(x,t \\right)} \\sqrt{\\rho}{\\left(x,t \\right)}$"
      ],
      "text/plain": [
       "\\hbar**2*Derivative(\\sqrt{\\rho}(x, t), (x, 2))/(2*m) + I*\\hbar*\\sqrt{\\rho}(x, t)*Derivative(S(x, t), (x, 2))/2 + I*\\hbar*Derivative(S(x, t), x)*Derivative(\\sqrt{\\rho}(x, t), x) + I*\\hbar*Derivative(\\sqrt{\\rho}(x, t), t) - g*\\sqrt{\\rho}(x, t)**3 - m*\\sqrt{\\rho}(x, t)*Derivative(S(x, t), t) - m*\\sqrt{\\rho}(x, t)*Derivative(S(x, t), x)**2/2 - V(x, t)*\\sqrt{\\rho}(x, t)"
      ]
     },
     "execution_count": 12,
     "metadata": {},
     "output_type": "execute_result"
    }
   ],
   "source": [
    "Schr_madelung = Schr_madelung.expand()\n",
    "Schr_madelung"
   ]
  },
  {
   "cell_type": "code",
   "execution_count": 13,
   "metadata": {},
   "outputs": [
    {
     "data": {
      "text/latex": [
       "$\\displaystyle - \\frac{\\bar{\\h}^{2} \\frac{\\partial^{2}}{\\partial x^{2}} \\sqrt{\\rho}{\\left(x,t \\right)}}{2 m^{2} \\sqrt{\\rho}{\\left(x,t \\right)}} + \\frac{g \\sqrt{\\rho}^{2}{\\left(x,t \\right)}}{m} + \\frac{\\partial}{\\partial t} S{\\left(x,t \\right)} + \\frac{\\left(\\frac{\\partial}{\\partial x} S{\\left(x,t \\right)}\\right)^{2}}{2} + \\frac{V{\\left(x,t \\right)}}{m}$"
      ],
      "text/plain": [
       "-\\hbar**2*Derivative(\\sqrt{\\rho}(x, t), (x, 2))/(2*m**2*\\sqrt{\\rho}(x, t)) + g*\\sqrt{\\rho}(x, t)**2/m + Derivative(S(x, t), t) + Derivative(S(x, t), x)**2/2 + V(x, t)/m"
      ]
     },
     "execution_count": 13,
     "metadata": {},
     "output_type": "execute_result"
    }
   ],
   "source": [
    "Re_eq = Schr_madelung.coeff(sp.I, n=0)\n",
    "Re_eq = sp.simplify(-Re_eq/(sqrt_rho*m))\n",
    "Re_eq"
   ]
  },
  {
   "cell_type": "markdown",
   "metadata": {},
   "source": [
    "The negative term corresponds with the quantum preassure contribution to the fluid. With some manipulation we get the superfluid hydrodynamic equations:\n",
    "$$P_Q = \\frac{\\hbar^2}{2m^2} \\frac{\\nabla^2 \\sqrt{\\rho}}{\\sqrt{\\rho}} = \\frac{\\hbar^2}{4m^2\\rho}\\left(\\nabla^2 \\rho - \\frac{(\\nabla \\rho)^2}{2\\rho} \\right)$$"
   ]
  },
  {
   "cell_type": "code",
   "execution_count": 14,
   "metadata": {},
   "outputs": [
    {
     "data": {
      "text/latex": [
       "$\\displaystyle \\frac{\\frac{\\partial^{2}}{\\partial x^{2}} \\rho{\\left(x,t \\right)}}{2 \\rho{\\left(x,t \\right)}} - \\frac{\\left(\\frac{\\partial}{\\partial x} \\rho{\\left(x,t \\right)}\\right)^{2}}{4 \\rho^{2}{\\left(x,t \\right)}}$"
      ],
      "text/plain": [
       "Derivative(\\rho(x, t), (x, 2))/(2*\\rho(x, t)) - Derivative(\\rho(x, t), x)**2/(4*\\rho(x, t)**2)"
      ]
     },
     "execution_count": 14,
     "metadata": {},
     "output_type": "execute_result"
    }
   ],
   "source": [
    "sp.expand(sp.diff(sp.sqrt(rho), x, 2)/sp.sqrt(rho))"
   ]
  },
  {
   "cell_type": "code",
   "execution_count": 15,
   "metadata": {},
   "outputs": [
    {
     "data": {
      "text/latex": [
       "$\\displaystyle \\frac{g \\sqrt{\\rho}^{2}{\\left(x,t \\right)}}{m} + \\operatorname{P_{Q}}{\\left(x,t \\right)} + \\frac{\\partial}{\\partial t} S{\\left(x,t \\right)} + \\frac{\\left(\\frac{\\partial}{\\partial x} S{\\left(x,t \\right)}\\right)^{2}}{2} + \\frac{V{\\left(x,t \\right)}}{m}$"
      ],
      "text/plain": [
       "g*\\sqrt{\\rho}(x, t)**2/m + P_Q(x, t) + Derivative(S(x, t), t) + Derivative(S(x, t), x)**2/2 + V(x, t)/m"
      ]
     },
     "execution_count": 15,
     "metadata": {},
     "output_type": "execute_result"
    }
   ],
   "source": [
    "Re_eq = Re_eq.subs({-hbar**2*sp.diff(sqrt_rho, x, 2)/(2*m**2*sqrt_rho): Pq})\n",
    "Re_eq"
   ]
  },
  {
   "cell_type": "code",
   "execution_count": 16,
   "metadata": {},
   "outputs": [
    {
     "data": {
      "text/latex": [
       "$\\displaystyle m \\left(\\frac{2 g \\sqrt{\\rho}{\\left(x,t \\right)} \\frac{\\partial}{\\partial x} \\sqrt{\\rho}{\\left(x,t \\right)}}{m} + v{\\left(x,t \\right)} \\frac{\\partial}{\\partial x} v{\\left(x,t \\right)} + \\frac{\\partial}{\\partial x} \\operatorname{P_{Q}}{\\left(x,t \\right)} + \\frac{\\partial}{\\partial t} v{\\left(x,t \\right)} + \\frac{\\frac{\\partial}{\\partial x} V{\\left(x,t \\right)}}{m}\\right) \\rho{\\left(x,t \\right)}$"
      ],
      "text/plain": [
       "m*(2*g*\\sqrt{\\rho}(x, t)*Derivative(\\sqrt{\\rho}(x, t), x)/m + v(x, t)*Derivative(v(x, t), x) + Derivative(P_Q(x, t), x) + Derivative(v(x, t), t) + Derivative(V(x, t), x)/m)*\\rho(x, t)"
      ]
     },
     "execution_count": 16,
     "metadata": {},
     "output_type": "execute_result"
    }
   ],
   "source": [
    "m*rho*sp.diff(Re_eq, x).subs({sp.diff(S, x): v})"
   ]
  },
  {
   "cell_type": "markdown",
   "metadata": {},
   "source": [
    "or:\n",
    "$$ m\\rho \\left(\\frac{\\partial v}{\\partial t} + (v\\cdot \\nabla) v\\right) = -m \\rho \\nabla P_Q - \\rho \\nabla V - g\\nabla \\rho$$\n",
    "Notice that the pressure depends only on the density. This property makes\n",
    "the condensate a barotropic fluid; as a consequence, surfaces of constant pres- sure are also surfaces of constant density. The quantum pressure is a pure quantum effect, and vanishes if we set Planck’s constant equal to zero. It has the same origin as the quantum kinetic energy, i.e. zero point motion, which creates a pressure that opposes any ‘squashing’ or ‘bending’ of the condensate. In a uniform condensate the quantum pressure is zero because n is constant.\n",
    "\n",
    "This equation is very similar to the classical Euler equation for an inviscid fluid. If in addition, the trapping potential is absent ($V = 0$) then the equation reduces to the classical Euler equation, which describes the motion of a classical fluid without viscosity."
   ]
  },
  {
   "cell_type": "code",
   "execution_count": null,
   "metadata": {},
   "outputs": [],
   "source": []
  }
 ],
 "metadata": {
  "kernelspec": {
   "display_name": "Python [conda env:root] *",
   "language": "python",
   "name": "conda-root-py"
  },
  "language_info": {
   "codemirror_mode": {
    "name": "ipython",
    "version": 3
   },
   "file_extension": ".py",
   "mimetype": "text/x-python",
   "name": "python",
   "nbconvert_exporter": "python",
   "pygments_lexer": "ipython3",
   "version": "3.8.8"
  }
 },
 "nbformat": 4,
 "nbformat_minor": 4
}
