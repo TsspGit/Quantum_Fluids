{
 "cells": [
  {
   "cell_type": "code",
   "execution_count": 2,
   "metadata": {},
   "outputs": [],
   "source": [
    "__author__ = \"@Tssp\"\n",
    "__date__   = \"17/03/2021\"\n",
    "import sympy as sp\n",
    "import numpy as np\n",
    "from sympy.vector import CoordSys3D, Del, curl, divergence"
   ]
  },
  {
   "cell_type": "code",
   "execution_count": 5,
   "metadata": {},
   "outputs": [],
   "source": [
    "delop = Del()"
   ]
  },
  {
   "cell_type": "code",
   "execution_count": 6,
   "metadata": {},
   "outputs": [],
   "source": [
    "x, t, m, hbar = sp.symbols('x t m \\\\hbar', real=True)\n",
    "psi = sp.Function('\\\\psi', real=False)(x, t)  # wavefunction\n",
    "rho = sp.Function('\\\\rho', real=True)(x, t)  # probability density\n",
    "V   = sp.Function('V', real=True)(x, t)      # Trap Potential\n",
    "S   = sp.Function('S', real=True)(x, t)      # Madelung Ansatz\n",
    "v   = sp.Function('v', real=True)(x, t)      # fluid velocity\n",
    "Pq   = sp.Function('P_Q', real=True)(x, t)   # Quantum Preassure\n",
    "g   = sp.symbols('g', real=True)             # g constant"
   ]
  },
  {
   "cell_type": "code",
   "execution_count": 8,
   "metadata": {},
   "outputs": [
    {
     "data": {
      "text/latex": [
       "$\\displaystyle \\mathbf{\\hat{0}}$"
      ],
      "text/plain": [
       "0"
      ]
     },
     "execution_count": 8,
     "metadata": {},
     "output_type": "execute_result"
    }
   ],
   "source": [
    "delop(psi)"
   ]
  },
  {
   "cell_type": "code",
   "execution_count": null,
   "metadata": {},
   "outputs": [],
   "source": []
  }
 ],
 "metadata": {
  "kernelspec": {
   "display_name": "Python 3",
   "language": "python",
   "name": "python3"
  },
  "language_info": {
   "codemirror_mode": {
    "name": "ipython",
    "version": 3
   },
   "file_extension": ".py",
   "mimetype": "text/x-python",
   "name": "python",
   "nbconvert_exporter": "python",
   "pygments_lexer": "ipython3",
   "version": "3.8.5"
  }
 },
 "nbformat": 4,
 "nbformat_minor": 4
}
